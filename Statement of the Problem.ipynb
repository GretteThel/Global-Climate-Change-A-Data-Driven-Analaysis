{
 "cells": [
  {
   "cell_type": "markdown",
   "id": "d85dcd16",
   "metadata": {},
   "source": [
    "# Statement of the Problem"
   ]
  },
  {
   "cell_type": "markdown",
   "id": "5a5deb57",
   "metadata": {},
   "source": [
    "Driven by the continuous rise in greenhouse gas (GHG) emissions, climate change is one of the most pressing and challenging problems facing humans nowadays.   Despite worldwide efforts to mitigate this crisis—such as the Paris Agreement and the acceptance of net-zero emissions targets by over 140 countries—global greenhouse gas (GHG) emissions continue to rise, reaching an all-time high of 53.0 gigatonnes of CO₂ equivalent (Gt CO₂-eq) in 2023, a 1.9% increase from the previous year. These emissions are largely resulting from anthropogenic activities like fossil fuel consumption, industrial processes, land-use changes, and deforestation, anthropogenic activities including swiftly expanding economies like China and India largely produce these emissions (Crippa et al., 2024).   Concurrent with this is observational data from NASA's worldwide temperature records demonstrating a steady increase in surface temperatures globally during the past four decades.   With the 10 most recent years with the highest temperatures on record, 2024 marked the warmest year since records began in 1880, according to NASA (NASA, 2024).   These simultaneous trends need closer scientific investigation since they raise significant questions about the likely link between greenhouse gas emissions and global temperature changes."
   ]
  },
  {
   "cell_type": "markdown",
   "id": "2166a9f2",
   "metadata": {},
   "source": [
    "Over the past few decades, one significant indicator of climate change— seawater warming—has been routinely noted.   Observational data reveal that ocean heat content has raised noticeably since 1955; most of this thermal energy is absorbed by the ocean's top layers.   Especially obvious in the Northern Hemisphere, this warming upsets aquatic life and accelerates polar ice loss.   This process has thus been primarily responsible for the consistent global increase in sea level since 1993.   Rising by around 105 millimeters (about 4 inches) since 1993, satellite altimeter readings reveal that low-lying coastal communities all around are under danger from the global mean sea level.   (NASA Science)"
   ]
  },
  {
   "cell_type": "markdown",
   "id": "6d712c2a",
   "metadata": {},
   "source": [
    "Furthermore, the Arctic area has undergone notable changes; studies show that over 70% of its ice cover is now seasonal, so increasing its vulnerability to weather and oceanic changes; more than two-thirds of the ice thickness of the Arctic Ocean has been lost since 1958 (Kwok, 2018).   This change has significant effects not only for local ecosystems and indigenous civilizations but also for systems of global climate due to the disappearance of reflecting ice and improved ocean heat absorption."
   ]
  },
  {
   "cell_type": "markdown",
   "id": "c250363a",
   "metadata": {},
   "source": [
    "Should these inclinations go unaddressed, the negative consequences will be increasingly severe and broad.   Rising sea levels threaten to disrupt agriculture, impair food and water security, and endanger public health (Hoegh-Guldberg et al., 2018); the escalation of extreme weather events—such as heat waves, storms, and floods—will threaten coastal and island nations disproportionately.   Particularly developing nations are vulnerable to the consequences of climate change due to their low adaptive capacity and less means for mitigating or disaster response.   Economic forces that could destroy decades of labour toward sustainable development and poverty reduction heighten this susceptibility.   For instance, the Asian Development Bank projects that without significant investment in climate adaptation (AP News, 2023), repercussions linked to climate change might cause GDP declines by up to 17% by 2070 in underdeveloped Asian countries.   Furthermore underlined by the International Monetary Fund (IMF) is the fact that underdeveloped and vulnerable countries will suffer most from climate change, albeit little to do with their causes.   Emphasizing that unbridled climate change could jeopardize development and stability in underdeveloped nations, the IMF suggests international cooperation to help these nations to adapt (IMF, 2022).   Moreover worsening global instability and reducing resilience against future shocks are ongoing loss of ecosystems and biodiversity (Hoegh-Guldberg et al., 2018)."
   ]
  },
  {
   "cell_type": "markdown",
   "id": "112ceb86",
   "metadata": {},
   "source": [
    "The 2023 UNEP Emissions Gap Report reveals the disparity between what countries have promised to do—through their climate pledges or NDCs—and what is really needed to bring down global warming.   If countries just meet their basic, unqualified commitments, the world will still be spewing around 22 billion tons (Gt) more CO₂-equivalent than is acceptable by 2030 to be on pace for the 1.5°C limit.   Even if all conditional obligations are likewise fulfilled, the difference only closes quite slowly, to around 19 Gt CO₂-eq.   If we are to meet global temperature goals, emissions must drop at least 28% for a 2°C target and 42% for a 1.5°C goal.  In 2030   Large annual decrease this decade calls for quick and strong action now to have any real chance of closing that gap and mitigating the worst effects of climate change (UNEP, 2023).   Moreover compromising effective global monitoring of emissions development are variations in national reporting, data gathering gaps, and methodological inconsistencies—particularly in non-Annex I nations—that influence   Apart from national reporting variations, many underdeveloped countries lack the institutional and technological capacity to produce consistent, high-quality greenhouse gas inventories.   Some of the 133 underprivileged nations assessed in 2023 failed to provide inventories as requested; almost half of them had either made little or no progress in raising their capacity for emissions reporting between 1997 and 2019.   These limitations—especially in low-income and small-island states—weakens the openness and efficacy of worldwide climate tracking (Umemiya & White, 2023) under the Paris Agreement."
   ]
  },
  {
   "cell_type": "markdown",
   "id": "7824cd94",
   "metadata": {},
   "source": [
    "Thus, this data-driven analysis is crucial in merging sea level fluctuations, ocean and air temperature trends, and emissions data to present a full knowledge of the climate crisis.   Combining databases from various resources such as EDGAR, NASA, NOAA, and peer-reviewed scientific research helps it to close knowledge gaps and improve evidence-based judgments.   The urgency and complexity of climate change demand timely, consistent, and similar data to drive mitigating measures, protect vulnerable people, and assure successful worldwide execution of climate agreements based on   Not only is awareness of the link between emissions and climatic effects vital for science and policy, but also for preserving life and development on a globe changing under influence."
   ]
  },
  {
   "cell_type": "markdown",
   "id": "f60929c2",
   "metadata": {},
   "source": [
    "## REFERENCES:"
   ]
  },
  {
   "cell_type": "markdown",
   "id": "663fdb69",
   "metadata": {},
   "source": [
    "1. Crippa, M., Guizzardi, D., Pagani, F., Banja, M., Muntean, M., Schaaf, E., ... & Pekar, F. (2024). GHG emissions of all world countries: 2024 report. European Commission, Joint Research Centre. https://data.europa.eu/doi/10.2760/4002897\n",
    "\n",
    "2. NASA. (2024). Global Land-Ocean Temperature Index. NASA Climate Change: Vital Signs of the Planet. https://climate.nasa.gov/vital-signs/global-temperature/?intent=121\n",
    "\n",
    "3. NASA. (n.d.). Ocean Warming | Vital Signs – Climate Change. NASA Climate Change: Vital Signs of the Planet. Retrieved March 26, 2025, from https://climate.nasa.gov/vital-signs/ocean-warming/\n",
    "\n",
    "4. NASA. (n.d.). Sea Level | Vital Signs – Climate Change. NASA Climate Change: Vital Signs of the Planet. Retrieved March 26, 2025, from https://climate.nasa.gov/vital-signs/sea-level/\n",
    "\n",
    "5. Hoegh-Guldberg, O., D. Jacob, M. Taylor, M. Bindi, S. Brown, I. Camilloni, A. Diedhiou, R. Djalante, K.L. Ebi, F. Engelbrecht, J. Guiot, Y. Hijioka, S. Mehrotra, A. Payne, S.I. Seneviratne, A. Thomas, R. Warren, and G. Zhou, 2018: Impacts of 1.5ºC Global Warming on Natural and Human Systems. In: Global Warming of 1.5°C. An IPCC Special Report on the impacts of global warming of 1.5°C above pre-industrial levels and related global greenhouse gas emission pathways, in the context of strengthening the global response to the threat of climate change, sustainable development, and efforts to eradicate poverty [Masson-Delmotte, V., P. Zhai, H.-O. Pörtner, D. Roberts, J. Skea, P.R. Shukla, A. Pirani, W. Moufouma-Okia, C. Péan, R. Pidcock, S. Connors, J.B.R. Matthews, Y. Chen, X. Zhou, M.I. Gomis, E. Lonnoy, T. Maycock, M. Tignor, and T. Waterfield (eds.)]. In Press. https://www.ipcc.ch/site/assets/uploads/sites/2/2019/02/SR15_Chapter3_Low_Res.pdf\n",
    "\n",
    "6. AP News. (2023, May 2). Asian Development Bank: Climate change could cut Asian GDP by 17% by 2070. https://apnews.com/article/7d832e3449781b96509fa397378ea192\n",
    "\n",
    "7. International Monetary Fund (IMF). (2022, March 23). Poor and vulnerable countries need support to adapt to climate change. https://www.imf.org/en/Blogs/Articles/2022/03/23/blog032322-poor-and-vulnerable-countris-need-support-to-adapt-to-climate-change\n",
    "\n",
    "8. UNEP. (2023). Emissions Gap Report 2023. United Nations Environment Programme.\n",
    "https://wedocs.unep.org/bitstream/handle/20.500.11822/43922/EGR2023.pdf?sequence=3&isAllowed=y\n",
    "\n",
    "9. Umemiya, C., & White, M. (2023, September 20). Half of developing countries still struggle to report greenhouse gas emissions. Carbon Brief. https://www.carbonbrief.org/guest-post-half-of-developing-countries-still-struggle-to-report-greenhouse-gas-emissions/\n",
    "\n"
   ]
  }
 ],
 "metadata": {
  "kernelspec": {
   "display_name": "Python 3 (ipykernel)",
   "language": "python",
   "name": "python3"
  },
  "language_info": {
   "codemirror_mode": {
    "name": "ipython",
    "version": 3
   },
   "file_extension": ".py",
   "mimetype": "text/x-python",
   "name": "python",
   "nbconvert_exporter": "python",
   "pygments_lexer": "ipython3",
   "version": "3.11.3"
  }
 },
 "nbformat": 4,
 "nbformat_minor": 5
}
